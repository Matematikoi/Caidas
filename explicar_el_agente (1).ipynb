{
 "cells": [
  {
   "cell_type": "markdown",
   "metadata": {},
   "source": [
    "# Creación de un agente para la detección de caidas\n",
    "## Introducción"
   ]
  },
  {
   "cell_type": "markdown",
   "metadata": {},
   "source": [
    "Los seres humanos tenemos un proceso de deterioro natural de nuestro cuerpo. Esto ocasiona que muchos de nosotros cuando llegamos a una edad avanzada, aproximadamente de 60 años en adelante, necesitemos asistencia especial para suplir problemas de salud. Varios de los problemas más comunes de salud debido al proceso de envejecimiento están relacionados con la motricidad.  Algunas personas empiezan a tener problemas para movilizarse y pueden perder el equilibrio fácilmente aumentando la probabilidad de sufrir una caída.\n",
    "\n",
    "Para las familias que tiene algún miembro con estas dificultades y que no pueden permitirse contratar personal especializado que cuiden de este, es muy importante, al menos, saber si el adulto mayor ha tenido una caída para así auxiliarlo a tiempo. \n",
    "Actualmente se pueden comprar en el mercado dispositivos electrónicos que en general constan de un sensor que debe portar el paciente y una app que se instala en el móvil. El sensor al detectar una caída se comunica con la app y esta le da un tiempo al usuario para abortar el proceso de aviso. Si el usuario no aborta, la app envía mensajes avisando de la caída e información de la ubicación GPS a los familiares.\n",
    "\n",
    "En este proyecto implementamos un sistema que da información oportuna a familiares de personas propensas a caídas, para así hacer una diferencia significativa en el tiempo que tardan en ser atendidos en caso de sufrir una caída. Este sistema es gratuito y se plantea la posibilidad de que se pueda descargar, modificar e implementar por cualquier persona que lo necesite.\n"
   ]
  },
  {
   "cell_type": "markdown",
   "metadata": {},
   "source": [
    "## Materiales y métodos\n",
    "En general, el sistema consiste en leer los datos del acelerómetro que tiene el móvil del usuario para ser transmitidos en tiempo real a un pc. En este pc receptor esta implementado un agente inteligente, que una vez recepciona estos datos, él toma segmentos de a 5 segundos de información y usa un modelo de redes neuronales de tipo Long Short Term Memory, para clasificar entre una caída y una no caída. En caso de que detecte una caída, envía un mensaje a un correo electrónico prestablecido.\n"
   ]
  },
  {
   "cell_type": "markdown",
   "metadata": {},
   "source": [
    "## Construcción de una base de datos inicial \n",
    "Para que el sistema tuviera mayor probabilidad de funcionar bien en diferentes móviles, la recolección de los datos necesaria para entrenar el sistema de aprendizaje de maquina se realizó a través de cuatro móviles del sistema operativo Android pero de diferentes marcas y características. Para cada móvil se realizó el siguiente procedimiento.\n",
    "\n",
    "Con la app IMU+GPS Stream de PlayStore, usando el protocolo UDP, se trasmitieron los datos del acelerómetro a una computadora. En dicha computadora se implementó el notebook imu_stream.ipynb el cual permite guardar y etiquetar la información del acelerómetro. Los datos se guardaron en el formato CSV, un formato muy común en el análisis de datos. Un solo archivo CSV representa una serie de tiempo de aproximadamente 5 segundos, el cual es etiquetado como caida o no caida. Cada línea del archivo corresponde a un conjunto de datos tomados al mismo tiempo, el cual contiene: (Unnamed: 0) el número del dato, (time) el tiempo de grabación, y (acc1, acc2, acc3) los tres valores que grabó del acelerómetro del celular. A continuación se muestra el formato de los datos.\n",
    "\n",
    "En total, tomamos datos de 100 caídas y 100 no caídas (cada archivo csv tiene información de una caida o no caida). El notebook imu_stream.ipynb crea un archivo adicional para guardar cuáles de los archivos CSV representan caídas y cuáles no. \n",
    "\n",
    "La toma de datos de no caídas se realizó mientras se hacían actividades cotidianas de un adulto mayor.  Como lo son, sentarse, parce, acostarse, levantarse, subir escaleras, bajar escaleras caminar y estar inmóvil. Por otra parte para la toma de datos de caída, se simularon caídas sobre un colchón y sobre el pasto. Las caídas fueron de lado derecho, lado izquierdo, hacia delante hacia atrás y de frente. "
   ]
  },
  {
   "cell_type": "markdown",
   "metadata": {},
   "source": [
    "## Modelo\n",
    "\n",
    "Construimos un modelo llamado \"Long Short-Term Memory\" (LSTM), lo cual es diseñado para poder cambiar la valoración de las aristas de una red neuronal significantemente y no dependiendo del tiempo de entrenamiento que ya ha pasado.\n",
    "El modelo cuenta con 255 nodos de entrada, representando todos los datos individuales grabados, 30 nodos en la segunda etapa, 15 en la tercera y dos al final. Interpretamos los últimos dos nodos como (1) caída y (2) no caída.\n",
    "Entrenamos el modelo usando librerías públicas de Python, lo cual nos permitió quedarnos a cierta distancia del funcionamiento adentro de las \"caja negra\"\n",
    "\n",
    "# Implementacion del modelo\n",
    "\n",
    "##  Entrenamiento de las redes neuronales\n",
    "\n",
    "Pasamos a la parte en la que usamos los datos para ajustar un modelo que clasifique las series de tiempo. Primero necesitamos separar los datos en train y test. \n",
    "\n",
    "### Separación del dataset en train y test\n",
    "\n",
    "El análisis de datos resulta más fácil si todos los archivos son del mismo tamaño. Por esta razón como primer paso llenamos los archivos más cortos con el valor 0 hasta que todos estuvieran del mismo tamaño. Separamos el conjunto de archivos en tres: Un conjunto de datos para el entrenamiento, otro conjunto para la validación, y un tercer conjunto para los tests."
   ]
  },
  {
   "cell_type": "code",
   "execution_count": 1,
   "metadata": {},
   "outputs": [],
   "source": [
    "import pandas as pd\n",
    "import numpy as np\n",
    "%matplotlib inline\n",
    "import matplotlib.pyplot as plt\n",
    "from os import listdir"
   ]
  },
  {
   "cell_type": "code",
   "execution_count": 5,
   "metadata": {
    "scrolled": true
   },
   "outputs": [
    {
     "name": "stderr",
     "output_type": "stream",
     "text": [
      "Using TensorFlow backend.\n",
      "/usr/lib/python3.7/site-packages/tensorflow/python/framework/dtypes.py:516: FutureWarning: Passing (type, 1) or '1type' as a synonym of type is deprecated; in a future version of numpy, it will be understood as (type, (1,)) / '(1,)type'.\n",
      "  _np_qint8 = np.dtype([(\"qint8\", np.int8, 1)])\n",
      "/usr/lib/python3.7/site-packages/tensorflow/python/framework/dtypes.py:517: FutureWarning: Passing (type, 1) or '1type' as a synonym of type is deprecated; in a future version of numpy, it will be understood as (type, (1,)) / '(1,)type'.\n",
      "  _np_quint8 = np.dtype([(\"quint8\", np.uint8, 1)])\n",
      "/usr/lib/python3.7/site-packages/tensorflow/python/framework/dtypes.py:518: FutureWarning: Passing (type, 1) or '1type' as a synonym of type is deprecated; in a future version of numpy, it will be understood as (type, (1,)) / '(1,)type'.\n",
      "  _np_qint16 = np.dtype([(\"qint16\", np.int16, 1)])\n",
      "/usr/lib/python3.7/site-packages/tensorflow/python/framework/dtypes.py:519: FutureWarning: Passing (type, 1) or '1type' as a synonym of type is deprecated; in a future version of numpy, it will be understood as (type, (1,)) / '(1,)type'.\n",
      "  _np_quint16 = np.dtype([(\"quint16\", np.uint16, 1)])\n",
      "/usr/lib/python3.7/site-packages/tensorflow/python/framework/dtypes.py:520: FutureWarning: Passing (type, 1) or '1type' as a synonym of type is deprecated; in a future version of numpy, it will be understood as (type, (1,)) / '(1,)type'.\n",
      "  _np_qint32 = np.dtype([(\"qint32\", np.int32, 1)])\n",
      "/usr/lib/python3.7/site-packages/tensorflow/python/framework/dtypes.py:525: FutureWarning: Passing (type, 1) or '1type' as a synonym of type is deprecated; in a future version of numpy, it will be understood as (type, (1,)) / '(1,)type'.\n",
      "  np_resource = np.dtype([(\"resource\", np.ubyte, 1)])\n",
      "/usr/lib/python3.7/site-packages/tensorboard/compat/tensorflow_stub/dtypes.py:541: FutureWarning: Passing (type, 1) or '1type' as a synonym of type is deprecated; in a future version of numpy, it will be understood as (type, (1,)) / '(1,)type'.\n",
      "  _np_qint8 = np.dtype([(\"qint8\", np.int8, 1)])\n",
      "/usr/lib/python3.7/site-packages/tensorboard/compat/tensorflow_stub/dtypes.py:542: FutureWarning: Passing (type, 1) or '1type' as a synonym of type is deprecated; in a future version of numpy, it will be understood as (type, (1,)) / '(1,)type'.\n",
      "  _np_quint8 = np.dtype([(\"quint8\", np.uint8, 1)])\n",
      "/usr/lib/python3.7/site-packages/tensorboard/compat/tensorflow_stub/dtypes.py:543: FutureWarning: Passing (type, 1) or '1type' as a synonym of type is deprecated; in a future version of numpy, it will be understood as (type, (1,)) / '(1,)type'.\n",
      "  _np_qint16 = np.dtype([(\"qint16\", np.int16, 1)])\n",
      "/usr/lib/python3.7/site-packages/tensorboard/compat/tensorflow_stub/dtypes.py:544: FutureWarning: Passing (type, 1) or '1type' as a synonym of type is deprecated; in a future version of numpy, it will be understood as (type, (1,)) / '(1,)type'.\n",
      "  _np_quint16 = np.dtype([(\"quint16\", np.uint16, 1)])\n",
      "/usr/lib/python3.7/site-packages/tensorboard/compat/tensorflow_stub/dtypes.py:545: FutureWarning: Passing (type, 1) or '1type' as a synonym of type is deprecated; in a future version of numpy, it will be understood as (type, (1,)) / '(1,)type'.\n",
      "  _np_qint32 = np.dtype([(\"qint32\", np.int32, 1)])\n",
      "/usr/lib/python3.7/site-packages/tensorboard/compat/tensorflow_stub/dtypes.py:550: FutureWarning: Passing (type, 1) or '1type' as a synonym of type is deprecated; in a future version of numpy, it will be understood as (type, (1,)) / '(1,)type'.\n",
      "  np_resource = np.dtype([(\"resource\", np.ubyte, 1)])\n"
     ]
    }
   ],
   "source": [
    "from keras.preprocessing import sequence\n",
    "import tensorflow as tf\n",
    "from keras.models import Sequential\n",
    "from keras.layers import Dense\n",
    "from keras.layers import LSTM\n",
    "from keras.layers import Flatten\n",
    "from keras.layers import Dropout\n",
    "from keras.optimizers import Adam\n",
    "from keras.models import load_model\n",
    "from keras.callbacks import ModelCheckpoint\n"
   ]
  },
  {
   "cell_type": "markdown",
   "metadata": {},
   "source": [
    "Mostremos algunos datos "
   ]
  },
  {
   "cell_type": "code",
   "execution_count": 285,
   "metadata": {},
   "outputs": [],
   "source": [
    "target = pd.read_csv('./data/target.csv')\n",
    "targets = target.values[:,1]"
   ]
  },
  {
   "cell_type": "code",
   "execution_count": 7,
   "metadata": {
    "scrolled": true
   },
   "outputs": [
    {
     "name": "stdout",
     "output_type": "stream",
     "text": [
      "./data/dataset_gabriel_1.csv\n",
      "./data/dataset_gabriel_2.csv\n",
      "./data/dataset_gabriel_3.csv\n",
      "./data/dataset_gabriel_4.csv\n",
      "./data/dataset_gabriel_5.csv\n",
      "./data/dataset_gabriel_6.csv\n",
      "./data/dataset_gabriel_7.csv\n",
      "./data/dataset_gabriel_8.csv\n",
      "./data/dataset_gabriel_9.csv\n",
      "./data/dataset_gabriel_10.csv\n",
      "./data/dataset_gabriel_11.csv\n",
      "./data/dataset_gabriel_12.csv\n",
      "./data/dataset_gabriel_13.csv\n",
      "./data/dataset_gabriel_14.csv\n",
      "./data/dataset_gabriel_15.csv\n",
      "./data/dataset_gabriel_16.csv\n",
      "./data/dataset_gabriel_17.csv\n",
      "./data/dataset_gabriel_18.csv\n",
      "./data/dataset_gabriel_19.csv\n",
      "./data/dataset_gabriel_20.csv\n",
      "./data/dataset_gabriel_21.csv\n",
      "./data/dataset_gabriel_22.csv\n",
      "./data/dataset_gabriel_23.csv\n",
      "./data/dataset_gabriel_24.csv\n",
      "./data/dataset_gabriel_25.csv\n",
      "./data/dataset_gabriel_26.csv\n",
      "./data/dataset_gabriel_27.csv\n",
      "./data/dataset_gabriel_28.csv\n",
      "./data/dataset_gabriel_29.csv\n",
      "./data/dataset_gabriel_30.csv\n",
      "./data/dataset_gabriel_31.csv\n",
      "./data/dataset_gabriel_32.csv\n",
      "./data/dataset_gabriel_33.csv\n",
      "./data/dataset_gabriel_34.csv\n",
      "./data/dataset_gabriel_35.csv\n",
      "./data/dataset_gabriel_36.csv\n",
      "./data/dataset_gabriel_38.csv\n",
      "./data/dataset_gabriel_39.csv\n",
      "./data/dataset_gabriel_40.csv\n",
      "./data/dataset_gabriel_41.csv\n",
      "./data/dataset_gabriel_42.csv\n",
      "./data/dataset_gabriel_43.csv\n",
      "./data/dataset_gabriel_44.csv\n",
      "./data/dataset_gabriel_45.csv\n",
      "./data/dataset_gabriel_46.csv\n",
      "./data/dataset_gabriel_47.csv\n",
      "./data/dataset_gabriel_48.csv\n",
      "./data/dataset_gabriel_49.csv\n",
      "./data/dataset_gabriel_50.csv\n",
      "./data/nils_dataset_1.csv\n",
      "./data/nils_dataset_2.csv\n",
      "./data/nils_dataset_3.csv\n",
      "./data/nils_dataset_4.csv\n",
      "./data/nils_dataset_5.csv\n",
      "./data/nils_dataset_6.csv\n",
      "./data/nils_dataset_7.csv\n",
      "./data/nils_dataset_8.csv\n",
      "./data/nils_dataset_9.csv\n",
      "./data/nils_dataset_11.csv\n",
      "./data/nils_dataset_12.csv\n",
      "./data/nils_dataset_13.csv\n",
      "./data/nils_dataset_14.csv\n",
      "./data/nils_dataset_15.csv\n",
      "./data/nils_dataset_16.csv\n",
      "./data/nils_dataset_17.csv\n",
      "./data/nils_dataset_18.csv\n",
      "./data/nils_dataset_19.csv\n",
      "./data/nils_dataset_20.csv\n",
      "./data/nils_dataset_21.csv\n",
      "./data/nils_dataset_22.csv\n",
      "./data/nils_dataset_23.csv\n",
      "./data/nils_dataset_24.csv\n",
      "./data/nils_dataset_25.csv\n",
      "./data/nils_dataset_26.csv\n",
      "./data/nils_dataset_27.csv\n",
      "./data/nils_dataset_28.csv\n",
      "./data/nils_dataset_29.csv\n",
      "./data/nils_dataset_31.csv\n",
      "./data/nils_dataset_32.csv\n",
      "./data/nils_dataset_33.csv\n",
      "./data/nils_dataset_34.csv\n",
      "./data/nils_dataset_35.csv\n",
      "./data/nils_dataset_36.csv\n",
      "./data/nils_dataset_37.csv\n",
      "./data/nils_dataset_38.csv\n",
      "./data/nils_dataset_39.csv\n",
      "./data/nils_dataset_40.csv\n",
      "./data/nils_dataset_41.csv\n",
      "./data/nils_dataset_43.csv\n",
      "./data/nils_dataset_44.csv\n",
      "./data/nils_dataset_45.csv\n",
      "./data/nils_dataset_46.csv\n",
      "./data/nils_dataset_47.csv\n",
      "./data/nils_dataset_48.csv\n",
      "./data/nils_dataset_49.csv\n",
      "./data/nils_dataset_50.csv\n",
      "./data/nils_dataset_10.csv\n",
      "./data/nils_dataset_30.csv\n",
      "./data/nils_dataset_42.csv\n",
      "./data/jesus_dataset_1.csv\n",
      "./data/jesus_dataset_2.csv\n",
      "./data/jesus_dataset_3.csv\n",
      "./data/jesus_dataset_4.csv\n",
      "./data/jesus_dataset_5.csv\n",
      "./data/jesus_dataset_6.csv\n",
      "./data/jesus_dataset_7.csv\n",
      "./data/jesus_dataset_8.csv\n",
      "./data/jesus_dataset_9.csv\n",
      "./data/jesus_dataset_10.csv\n",
      "./data/jesus_dataset_11.csv\n",
      "./data/jesus_dataset_12.csv\n",
      "./data/jesus_dataset_13.csv\n",
      "./data/jesus_dataset_14.csv\n",
      "./data/jesus_dataset_15.csv\n",
      "./data/jesus_dataset_16.csv\n",
      "./data/jesus_dataset_17.csv\n",
      "./data/jesus_dataset_18.csv\n",
      "./data/jesus_dataset_19.csv\n",
      "./data/jesus_dataset_20.csv\n",
      "./data/jesus_dataset_21.csv\n",
      "./data/jesus_dataset_22.csv\n",
      "./data/jesus_dataset_23.csv\n",
      "./data/jesus_dataset_24.csv\n",
      "./data/jesus_dataset_25.csv\n",
      "./data/jesus_dataset_26.csv\n",
      "./data/jesus_dataset_27.csv\n",
      "./data/jesus_dataset_28.csv\n",
      "./data/jesus_dataset_29.csv\n",
      "./data/jesus_dataset_30.csv\n",
      "./data/jesus_dataset_31.csv\n",
      "./data/jesus_dataset_32.csv\n",
      "./data/jesus_dataset_33.csv\n",
      "./data/jesus_dataset_34.csv\n",
      "./data/jesus_dataset_35.csv\n",
      "./data/jesus_dataset_36.csv\n",
      "./data/jesus_dataset_37.csv\n",
      "./data/jesus_dataset_38.csv\n",
      "./data/jesus_dataset_39.csv\n",
      "./data/jesus_dataset_40.csv\n",
      "./data/jesus_dataset_41.csv\n",
      "./data/jesus_dataset_42.csv\n",
      "./data/jesus_dataset_43.csv\n",
      "./data/jesus_dataset_44.csv\n",
      "./data/jesus_dataset_45.csv\n",
      "./data/jesus_dataset_46.csv\n",
      "./data/jesus_dataset_47.csv\n",
      "./data/jesus_dataset_48.csv\n",
      "./data/jesus_dataset_49.csv\n",
      "./data/jesus_dataset_50.csv\n",
      "./data/dataset_1.csv\n",
      "./data/dataset_2.csv\n",
      "./data/dataset_4.csv\n",
      "./data/dataset_5.csv\n",
      "./data/dataset_6.csv\n",
      "./data/dataset_7.csv\n",
      "./data/dataset_8.csv\n",
      "./data/dataset_9.csv\n",
      "./data/dataset_10.csv\n",
      "./data/dataset_11.csv\n",
      "./data/dataset_12.csv\n",
      "./data/dataset_13.csv\n",
      "./data/dataset_14.csv\n",
      "./data/dataset_15.csv\n",
      "./data/dataset_16.csv\n",
      "./data/dataset_17.csv\n",
      "./data/dataset_18.csv\n",
      "./data/dataset_19.csv\n",
      "./data/dataset_20.csv\n",
      "./data/dataset_21.csv\n",
      "./data/dataset_22.csv\n",
      "./data/dataset_23.csv\n",
      "./data/dataset_24.csv\n",
      "./data/dataset_25.csv\n",
      "./data/dataset_26.csv\n",
      "./data/dataset_27.csv\n",
      "./data/dataset_28.csv\n",
      "./data/dataset_29.csv\n",
      "./data/dataset_30.csv\n",
      "./data/dataset_31.csv\n",
      "./data/dataset_32.csv\n",
      "./data/dataset_33.csv\n",
      "./data/dataset_34.csv\n",
      "./data/dataset_35.csv\n",
      "./data/dataset_36.csv\n",
      "./data/dataset_37.csv\n",
      "./data/dataset_38.csv\n",
      "./data/dataset_39.csv\n",
      "./data/dataset_40.csv\n",
      "./data/dataset_41.csv\n",
      "./data/dataset_42.csv\n",
      "./data/dataset_43.csv\n",
      "./data/dataset_44.csv\n",
      "./data/dataset_45.csv\n",
      "./data/dataset_46.csv\n",
      "./data/dataset_47.csv\n",
      "./data/dataset_48.csv\n",
      "./data/dataset_49.csv\n",
      "./data/dataset_50.csv\n"
     ]
    }
   ],
   "source": [
    "path = './data/'\n",
    "sequences = list()\n",
    "for i in target['ID'].values:\n",
    "    file_path = path + str(i) \n",
    "    print(file_path)\n",
    "    df = pd.read_csv(file_path,index_col =0)\n",
    "    df['acc1']= df['acc1'].astype('float')\n",
    "    df['acc2']= df['acc2'].astype('float')\n",
    "    df['acc3']= df['acc3'].astype('float')\n",
    "    values = df.values\n",
    "    sequences.append(values)"
   ]
  },
  {
   "cell_type": "code",
   "execution_count": 235,
   "metadata": {
    "scrolled": true
   },
   "outputs": [
    {
     "data": {
      "text/plain": [
       "198"
      ]
     },
     "execution_count": 235,
     "metadata": {},
     "output_type": "execute_result"
    }
   ],
   "source": [
    "len(sequences)"
   ]
  },
  {
   "cell_type": "code",
   "execution_count": 13,
   "metadata": {},
   "outputs": [
    {
     "data": {
      "text/plain": [
       "count    198.000000\n",
       "mean     114.611111\n",
       "std       77.224541\n",
       "min        2.000000\n",
       "25%       70.000000\n",
       "50%       74.500000\n",
       "75%       80.500000\n",
       "max      256.000000\n",
       "dtype: float64"
      ]
     },
     "execution_count": 13,
     "metadata": {},
     "output_type": "execute_result"
    }
   ],
   "source": [
    "len_sequences = []\n",
    "for one_seq in sequences:\n",
    "    len_sequences.append(len(one_seq))\n",
    "pd.Series(len_sequences).describe()"
   ]
  },
  {
   "cell_type": "markdown",
   "metadata": {},
   "source": [
    "Aplicamos padding y truncamiento segun corresponda "
   ]
  },
  {
   "cell_type": "code",
   "execution_count": 16,
   "metadata": {},
   "outputs": [],
   "source": [
    "#Padding the sequence with the values in last row to max length\n",
    "to_pad = 256\n",
    "new_seq = []\n",
    "for one_seq in sequences:\n",
    "    len_one_seq = len(one_seq)\n",
    "    last_val = one_seq[-1]\n",
    "    n = to_pad - len_one_seq\n",
    "   \n",
    "    to_concat = np.repeat(one_seq[-1], n).reshape(4, n).transpose()\n",
    "    new_one_seq = np.concatenate([one_seq, to_concat])\n",
    "    new_seq.append(new_one_seq)\n",
    "final_seq = np.stack(new_seq)\n",
    "\n",
    "#truncate the sequence to length 60\n",
    "from keras.preprocessing import sequence\n",
    "seq_len = 255\n",
    "final_seq=sequence.pad_sequences(final_seq, maxlen=seq_len, padding='post', dtype='float', truncating='post')"
   ]
  },
  {
   "cell_type": "code",
   "execution_count": 139,
   "metadata": {},
   "outputs": [
    {
     "data": {
      "text/plain": [
       "(198, 255, 4)"
      ]
     },
     "execution_count": 139,
     "metadata": {},
     "output_type": "execute_result"
    }
   ],
   "source": [
    "final_seq.shape"
   ]
  },
  {
   "cell_type": "markdown",
   "metadata": {},
   "source": [
    "# Data Augmentation\n",
    "Para tener mas datos y aunmentar la precisión del modelo se utilizaron varias tecnicas de Data augmentation en series de tiempo. Para esto nos basamos en algunas tecnicas presentadas en este [repositorio](https://github.com/terryum/Data-Augmentation-For-Wearable-Sensor-Data)."
   ]
  },
  {
   "cell_type": "code",
   "execution_count": 214,
   "metadata": {},
   "outputs": [],
   "source": [
    "def apply_augmentation(data,func):\n",
    "    #print(data.shape)\n",
    "    mod_data = []\n",
    "    #print(mod_data.shape)\n",
    "    for row in data:\n",
    "        #print(row[0],np.hstack((row[:,:1], func(row[:,1:])))[0])\n",
    "        mod_data.append(np.hstack((row[:,:1], func(row[:,1:]))))\n",
    "    return np.array(mod_data)\n",
    "\n",
    "data = final_seq[5,:,1:]\n",
    "maxV = int(data.max())+1\n",
    "minV = int(data.min())-1\n",
    "\n",
    "def plot_differences(data,func,axis=[0,data.shape[0]-210,minV,maxV]):\n",
    "    fig = plt.figure(figsize=(30,10))\n",
    "    ax = fig.add_subplot(2,5,1)\n",
    "    ax.plot(data)\n",
    "    ax.axis(axis)\n",
    "\n",
    "    ax = fig.add_subplot(2,5,2)\n",
    "    ax.plot(func(data))\n",
    "    ax.axis(axis)"
   ]
  },
  {
   "cell_type": "markdown",
   "metadata": {},
   "source": [
    "## Jittering\n",
    "Change the data incluiding somo random noise."
   ]
  },
  {
   "cell_type": "code",
   "execution_count": 186,
   "metadata": {},
   "outputs": [],
   "source": [
    "def DA_Jitter(X, sigma=0.5):\n",
    "    myNoise = np.random.normal(loc=0, scale=sigma, size=X.shape)\n",
    "    return X+myNoise"
   ]
  },
  {
   "cell_type": "code",
   "execution_count": 187,
   "metadata": {},
   "outputs": [
    {
     "data": {
      "image/png": "[encoded data removed]",
      "text/plain": [
       "<Figure size 2160x720 with 2 Axes>"
      ]
     },
     "metadata": {
      "needs_background": "light"
     },
     "output_type": "display_data"
    }
   ],
   "source": [
    "plot_differences(data, DA_Jitter)"
   ]
  },
  {
   "cell_type": "code",
   "execution_count": 188,
   "metadata": {},
   "outputs": [],
   "source": [
    "aug_final_seq = np.append(final_seq,apply_augmentation(final_seq,DA_Jitter),axis=0)\n",
    "final_targets = np.append(targets,targets,axis=0)"
   ]
  },
  {
   "cell_type": "markdown",
   "metadata": {},
   "source": [
    "## Scaling"
   ]
  },
  {
   "cell_type": "code",
   "execution_count": 189,
   "metadata": {},
   "outputs": [
    {
     "data": {
      "image/png": "[encoded data removed]",
      "text/plain": [
       "<Figure size 2160x720 with 2 Axes>"
      ]
     },
     "metadata": {
      "needs_background": "light"
     },
     "output_type": "display_data"
    }
   ],
   "source": [
    "def DA_Scaling(X, sigma=0.4):\n",
    "    scalingFactor = np.random.normal(loc=1.0, scale=sigma, size=(1,X.shape[1])) # shape=(1,3)\n",
    "    myNoise = np.matmul(np.ones((X.shape[0],1)), scalingFactor)\n",
    "    return X*myNoise\n",
    "plot_differences(data,DA_Scaling)"
   ]
  },
  {
   "cell_type": "code",
   "execution_count": 190,
   "metadata": {},
   "outputs": [],
   "source": [
    "aug_final_seq = np.append(aug_final_seq,apply_augmentation(aug_final_seq,DA_Scaling),axis=0)\n",
    "final_targets = np.append(final_targets,final_targets,axis=0)"
   ]
  },
  {
   "cell_type": "markdown",
   "metadata": {},
   "source": [
    "## Magnitude warping"
   ]
  },
  {
   "cell_type": "code",
   "execution_count": 191,
   "metadata": {},
   "outputs": [
    {
     "data": {
      "image/png": "[encoded data removed]",
      "text/plain": [
       "<Figure size 2160x720 with 2 Axes>"
      ]
     },
     "metadata": {
      "needs_background": "light"
     },
     "output_type": "display_data"
    }
   ],
   "source": [
    "from scipy.interpolate import CubicSpline \n",
    "\n",
    "def GenerateRandomCurves(X, sigma=0.2, knot=4):\n",
    "    xx = (np.ones((X.shape[1],1))*(np.arange(0,X.shape[0], (X.shape[0]-1)/(knot+1)))).transpose()\n",
    "    yy = np.random.normal(loc=1.0, scale=sigma, size=(knot+2, X.shape[1]))\n",
    "    x_range = np.arange(X.shape[0])\n",
    "    cs_x = CubicSpline(xx[:,0], yy[:,0])\n",
    "    cs_y = CubicSpline(xx[:,1], yy[:,1])\n",
    "    cs_z = CubicSpline(xx[:,2], yy[:,2])\n",
    "    return np.array([cs_x(x_range),cs_y(x_range),cs_z(x_range)]).transpose()\n",
    "\n",
    "def DA_MagWarp(X, sigma=0.3):\n",
    "    return X * GenerateRandomCurves(X, sigma)\n",
    "\n",
    "plot_differences(data,DA_MagWarp)"
   ]
  },
  {
   "cell_type": "code",
   "execution_count": 192,
   "metadata": {},
   "outputs": [],
   "source": [
    "aug_final_seq = np.append(aug_final_seq,apply_augmentation(aug_final_seq,DA_MagWarp),axis=0)\n",
    "final_targets = np.append(final_targets,final_targets,axis=0)"
   ]
  },
  {
   "cell_type": "markdown",
   "metadata": {},
   "source": [
    "## Time warping"
   ]
  },
  {
   "cell_type": "code",
   "execution_count": 193,
   "metadata": {},
   "outputs": [
    {
     "data": {
      "image/png": "[encoded data removed]",
      "text/plain": [
       "<Figure size 2160x720 with 2 Axes>"
      ]
     },
     "metadata": {
      "needs_background": "light"
     },
     "output_type": "display_data"
    }
   ],
   "source": [
    "def DistortTimesteps(X, sigma=0.2):\n",
    "    tt = GenerateRandomCurves(X, sigma) # Regard these samples aroun 1 as time intervals\n",
    "    tt_cum = np.cumsum(tt, axis=0)        # Add intervals to make a cumulative graph\n",
    "    # Make the last value to have X.shape[0]\n",
    "    t_scale = [(X.shape[0]-1)/tt_cum[-1,0],(X.shape[0]-1)/tt_cum[-1,1],(X.shape[0]-1)/tt_cum[-1,2]]\n",
    "    tt_cum[:,0] = tt_cum[:,0]*t_scale[0]\n",
    "    tt_cum[:,1] = tt_cum[:,1]*t_scale[1]\n",
    "    tt_cum[:,2] = tt_cum[:,2]*t_scale[2]\n",
    "    return tt_cum\n",
    "\n",
    "def DA_TimeWarp(X, sigma=0.4):\n",
    "    tt_new = DistortTimesteps(X, sigma)\n",
    "    X_new = np.zeros(X.shape)\n",
    "    x_range = np.arange(X.shape[0])\n",
    "    X_new[:,0] = np.interp(x_range, tt_new[:,0], X[:,0])\n",
    "    X_new[:,1] = np.interp(x_range, tt_new[:,1], X[:,1])\n",
    "    X_new[:,2] = np.interp(x_range, tt_new[:,2], X[:,2])\n",
    "    return X_new\n",
    "\n",
    "plot_differences(data,DA_TimeWarp)"
   ]
  },
  {
   "cell_type": "code",
   "execution_count": null,
   "metadata": {},
   "outputs": [],
   "source": [
    "aug_final_seq = np.append(aug_final_seq,apply_augmentation(aug_final_seq,DA_MagWarp),axis=0)\n",
    "final_targets = np.append(final_targets,final_targets,axis=0)"
   ]
  },
  {
   "cell_type": "code",
   "execution_count": null,
   "metadata": {},
   "outputs": [],
   "source": [
    "aug_final_seq.shape"
   ]
  },
  {
   "cell_type": "code",
   "execution_count": null,
   "metadata": {},
   "outputs": [],
   "source": [
    "## Permutation"
   ]
  },
  {
   "cell_type": "code",
   "execution_count": 225,
   "metadata": {},
   "outputs": [
    {
     "data": {
      "image/png": "[encoded data removed]",
      "text/plain": [
       "<Figure size 2160x720 with 2 Axes>"
      ]
     },
     "metadata": {
      "needs_background": "light"
     },
     "output_type": "display_data"
    }
   ],
   "source": [
    "def DA_Permutation(X, nPerm=5, minSegLength=35):\n",
    "    X_new = np.zeros(X.shape)\n",
    "    idx = np.random.permutation(nPerm)\n",
    "    bWhile = True\n",
    "    while bWhile:\n",
    "        segs = np.zeros(nPerm+1, dtype=int)\n",
    "        segs[1:-1] = np.sort(np.random.randint(minSegLength, X.shape[0]-minSegLength, nPerm-1))\n",
    "        segs[-1] = X.shape[0]\n",
    "        if np.min(segs[1:]-segs[0:-1]) > minSegLength:\n",
    "            bWhile = False\n",
    "    pp = 0\n",
    "    for ii in range(nPerm):\n",
    "        x_temp = X[segs[idx[ii]]:segs[idx[ii]+1],:]\n",
    "        X_new[pp:pp+len(x_temp),:] = x_temp\n",
    "        pp += len(x_temp)\n",
    "    return X_new\n",
    "\n",
    "plot_differences(data,DA_Permutation,axis=[0,data.shape[0],minV,maxV])"
   ]
  },
  {
   "cell_type": "code",
   "execution_count": 223,
   "metadata": {},
   "outputs": [],
   "source": [
    "aug_final_seq = np.append(aug_final_seq,apply_augmentation(aug_final_seq,DA_Permutation),axis=0)\n",
    "final_targets = np.append(final_targets,final_targets,axis=0)"
   ]
  },
  {
   "cell_type": "code",
   "execution_count": 226,
   "metadata": {},
   "outputs": [
    {
     "name": "stdout",
     "output_type": "stream",
     "text": [
      "(198, 255, 4)\n"
     ]
    },
    {
     "data": {
      "text/plain": [
       "(12672, 255, 4)"
      ]
     },
     "execution_count": 226,
     "metadata": {},
     "output_type": "execute_result"
    }
   ],
   "source": [
    "print(final_seq.shape)\n",
    "aug_final_seq.shape"
   ]
  },
  {
   "cell_type": "markdown",
   "metadata": {},
   "source": [
    "# Construccion de train, validation y test\n",
    "Tenemos que separar los datos en estos 3 conjuntos de datos para probar nuestro modelo de una manera adecuada\n"
   ]
  },
  {
   "cell_type": "code",
   "execution_count": 286,
   "metadata": {},
   "outputs": [],
   "source": [
    "total = np.array([i for i in range(final_seq.shape[0])])\n",
    "msk = np.random.rand(final_seq.shape[0]) < 0.7\n",
    "train = total[msk]\n",
    "msk2 = np.random.rand(total[~msk].shape[0]) < 0.5\n",
    "test = total[~msk][msk2]\n",
    "validation = total[~msk][~msk2]\n",
    "\n",
    "\n",
    "train_target = target.iloc[train]['class_label'].values\n",
    "test_target = target.iloc[test]['class_label'].values\n",
    "validation_target = target.iloc[validation]['class_label'].values\n",
    "train_target = (train_target+1)/2\n",
    "validation_target = (validation_target+1)/2\n",
    "test_target = (test_target+1)/2\n",
    "\n",
    "\n",
    "train = final_seq[train,:,:]\n",
    "test = final_seq[test,:,:]\n",
    "validation = final_seq[validation,:,:]"
   ]
  },
  {
   "cell_type": "code",
   "execution_count": 287,
   "metadata": {},
   "outputs": [
    {
     "name": "stdout",
     "output_type": "stream",
     "text": [
      "(125, 255, 4) (37, 255, 4) (36, 255, 4)\n"
     ]
    }
   ],
   "source": [
    "print (train.shape, validation.shape, test.shape)"
   ]
  },
  {
   "cell_type": "code",
   "execution_count": 19,
   "metadata": {},
   "outputs": [],
   "source": [
    "model = Sequential()\n",
    "model.add(LSTM(30, input_shape=(seq_len, 4), return_sequences=True))\n",
    "model.add(Dropout(0.2))\n",
    "model.add(LSTM(15, return_sequences=True))\n",
    "model.add(Dropout(0.2))\n",
    "#model.add(LSTM(30, return_sequences= True))\n",
    "#model.add(Dropout(0.2))\n",
    "model.add(Flatten())\n",
    "model.add(Dense(1, activation='relu'))"
   ]
  },
  {
   "cell_type": "code",
   "execution_count": 20,
   "metadata": {},
   "outputs": [
    {
     "name": "stdout",
     "output_type": "stream",
     "text": [
      "_________________________________________________________________\n",
      "Layer (type)                 Output Shape              Param #   \n",
      "=================================================================\n",
      "lstm_2 (LSTM)                (None, 255, 30)           4200      \n",
      "_________________________________________________________________\n",
      "dropout_2 (Dropout)          (None, 255, 30)           0         \n",
      "_________________________________________________________________\n",
      "lstm_3 (LSTM)                (None, 255, 15)           2760      \n",
      "_________________________________________________________________\n",
      "dropout_3 (Dropout)          (None, 255, 15)           0         \n",
      "_________________________________________________________________\n",
      "flatten_2 (Flatten)          (None, 3825)              0         \n",
      "_________________________________________________________________\n",
      "dense_2 (Dense)              (None, 1)                 3826      \n",
      "=================================================================\n",
      "Total params: 10,786\n",
      "Trainable params: 10,786\n",
      "Non-trainable params: 0\n",
      "_________________________________________________________________\n"
     ]
    }
   ],
   "source": [
    "model.summary()"
   ]
  },
  {
   "cell_type": "code",
   "execution_count": 21,
   "metadata": {},
   "outputs": [
    {
     "name": "stderr",
     "output_type": "stream",
     "text": [
      "W0922 23:12:13.593125 140488869955392 deprecation_wrapper.py:119] From /home/gabriel/anaconda3/lib/python3.7/site-packages/keras/optimizers.py:790: The name tf.train.Optimizer is deprecated. Please use tf.compat.v1.train.Optimizer instead.\n",
      "\n",
      "W0922 23:12:13.599617 140488869955392 deprecation_wrapper.py:119] From /home/gabriel/anaconda3/lib/python3.7/site-packages/keras/backend/tensorflow_backend.py:3376: The name tf.log is deprecated. Please use tf.math.log instead.\n",
      "\n",
      "W0922 23:12:13.604444 140488869955392 deprecation.py:323] From /home/gabriel/anaconda3/lib/python3.7/site-packages/tensorflow/python/ops/nn_impl.py:180: add_dispatch_support.<locals>.wrapper (from tensorflow.python.ops.array_ops) is deprecated and will be removed in a future version.\n",
      "Instructions for updating:\n",
      "Use tf.where in 2.0, which has the same broadcast rule as np.where\n"
     ]
    },
    {
     "name": "stdout",
     "output_type": "stream",
     "text": [
      "Train on 143 samples, validate on 24 samples\n",
      "Epoch 1/60\n",
      "143/143 [==============================] - 9s 64ms/step - loss: 3.8095 - acc: 0.4825 - val_loss: 5.1712 - val_acc: 0.3750\n",
      "Epoch 2/60\n",
      "143/143 [==============================] - 8s 55ms/step - loss: 2.8041 - acc: 0.5245 - val_loss: 4.7224 - val_acc: 0.4167\n",
      "Epoch 3/60\n",
      "143/143 [==============================] - 8s 55ms/step - loss: 2.1415 - acc: 0.5874 - val_loss: 2.8911 - val_acc: 0.4167\n",
      "Epoch 4/60\n",
      "143/143 [==============================] - 8s 55ms/step - loss: 1.8148 - acc: 0.5944 - val_loss: 2.7614 - val_acc: 0.4583\n",
      "Epoch 5/60\n",
      "143/143 [==============================] - 8s 55ms/step - loss: 1.5336 - acc: 0.6084 - val_loss: 2.0633 - val_acc: 0.5833\n",
      "Epoch 6/60\n",
      "143/143 [==============================] - 9s 61ms/step - loss: 0.9833 - acc: 0.6294 - val_loss: 1.4639 - val_acc: 0.5833\n",
      "Epoch 7/60\n",
      "143/143 [==============================] - 9s 62ms/step - loss: 0.8763 - acc: 0.6014 - val_loss: 0.7919 - val_acc: 0.5833\n",
      "Epoch 8/60\n",
      "143/143 [==============================] - 8s 54ms/step - loss: 1.1639 - acc: 0.6364 - val_loss: 0.6260 - val_acc: 0.6667\n",
      "Epoch 9/60\n",
      "143/143 [==============================] - 8s 54ms/step - loss: 1.0742 - acc: 0.6503 - val_loss: 0.6374 - val_acc: 0.6667\n",
      "Epoch 10/60\n",
      "143/143 [==============================] - 10s 70ms/step - loss: 1.1090 - acc: 0.6084 - val_loss: 0.6812 - val_acc: 0.5833\n",
      "Epoch 11/60\n",
      "143/143 [==============================] - 8s 53ms/step - loss: 1.1640 - acc: 0.6434 - val_loss: 0.7020 - val_acc: 0.5000\n",
      "Epoch 12/60\n",
      "143/143 [==============================] - 8s 56ms/step - loss: 1.0495 - acc: 0.6224 - val_loss: 0.7006 - val_acc: 0.5000\n",
      "Epoch 13/60\n",
      "143/143 [==============================] - 8s 55ms/step - loss: 0.8270 - acc: 0.6224 - val_loss: 1.1761 - val_acc: 0.6250\n",
      "Epoch 14/60\n",
      "143/143 [==============================] - 8s 54ms/step - loss: 0.7986 - acc: 0.6923 - val_loss: 0.6410 - val_acc: 0.6667\n",
      "Epoch 15/60\n",
      "143/143 [==============================] - 8s 54ms/step - loss: 0.8851 - acc: 0.6783 - val_loss: 0.7215 - val_acc: 0.5417\n",
      "Epoch 16/60\n",
      "143/143 [==============================] - 8s 55ms/step - loss: 0.7477 - acc: 0.7343 - val_loss: 0.6519 - val_acc: 0.5833\n",
      "Epoch 17/60\n",
      "143/143 [==============================] - 8s 55ms/step - loss: 0.7576 - acc: 0.6853 - val_loss: 0.6469 - val_acc: 0.6250\n",
      "Epoch 18/60\n",
      "143/143 [==============================] - 8s 55ms/step - loss: 0.7576 - acc: 0.7343 - val_loss: 0.6713 - val_acc: 0.6667\n",
      "Epoch 19/60\n",
      "143/143 [==============================] - 8s 55ms/step - loss: 0.5480 - acc: 0.7133 - val_loss: 0.6660 - val_acc: 0.6250\n",
      "Epoch 20/60\n",
      "143/143 [==============================] - 8s 55ms/step - loss: 0.5483 - acc: 0.7133 - val_loss: 0.6561 - val_acc: 0.6250\n",
      "Epoch 21/60\n",
      "143/143 [==============================] - 8s 55ms/step - loss: 0.6146 - acc: 0.7203 - val_loss: 0.6560 - val_acc: 0.6667\n",
      "Epoch 22/60\n",
      "143/143 [==============================] - 8s 55ms/step - loss: 0.6134 - acc: 0.6923 - val_loss: 0.6735 - val_acc: 0.6250\n",
      "Epoch 23/60\n",
      "143/143 [==============================] - 8s 55ms/step - loss: 0.4633 - acc: 0.7622 - val_loss: 0.6514 - val_acc: 0.6667\n",
      "Epoch 24/60\n",
      "143/143 [==============================] - 8s 55ms/step - loss: 0.4643 - acc: 0.7483 - val_loss: 0.6569 - val_acc: 0.5833\n",
      "Epoch 25/60\n",
      "143/143 [==============================] - 8s 54ms/step - loss: 0.4549 - acc: 0.7762 - val_loss: 0.7220 - val_acc: 0.5833\n",
      "Epoch 26/60\n",
      "143/143 [==============================] - 8s 56ms/step - loss: 0.4429 - acc: 0.7622 - val_loss: 0.6595 - val_acc: 0.5833\n",
      "Epoch 27/60\n",
      "143/143 [==============================] - 8s 55ms/step - loss: 0.4069 - acc: 0.8042 - val_loss: 0.6493 - val_acc: 0.6250\n",
      "Epoch 28/60\n",
      "143/143 [==============================] - 8s 55ms/step - loss: 0.4418 - acc: 0.7832 - val_loss: 1.1927 - val_acc: 0.5833\n",
      "Epoch 29/60\n",
      "143/143 [==============================] - 8s 54ms/step - loss: 0.5069 - acc: 0.8322 - val_loss: 1.1863 - val_acc: 0.5833\n",
      "Epoch 30/60\n",
      "143/143 [==============================] - 8s 55ms/step - loss: 0.4190 - acc: 0.7762 - val_loss: 1.2861 - val_acc: 0.5417\n",
      "Epoch 31/60\n",
      "143/143 [==============================] - 8s 57ms/step - loss: 0.4030 - acc: 0.8042 - val_loss: 1.2220 - val_acc: 0.5833\n",
      "Epoch 32/60\n",
      "143/143 [==============================] - 8s 56ms/step - loss: 0.3799 - acc: 0.8182 - val_loss: 0.8194 - val_acc: 0.7083\n",
      "Epoch 33/60\n",
      "143/143 [==============================] - 8s 54ms/step - loss: 0.3408 - acc: 0.8392 - val_loss: 0.7419 - val_acc: 0.7500\n",
      "Epoch 34/60\n",
      "143/143 [==============================] - 8s 56ms/step - loss: 0.3528 - acc: 0.8531 - val_loss: 0.7298 - val_acc: 0.7500\n",
      "Epoch 35/60\n",
      "143/143 [==============================] - 8s 55ms/step - loss: 0.3624 - acc: 0.8112 - val_loss: 1.7368 - val_acc: 0.7917\n",
      "Epoch 36/60\n",
      "143/143 [==============================] - 8s 55ms/step - loss: 0.3139 - acc: 0.8531 - val_loss: 1.7184 - val_acc: 0.7917\n",
      "Epoch 37/60\n",
      "143/143 [==============================] - 8s 55ms/step - loss: 0.3290 - acc: 0.8462 - val_loss: 1.1797 - val_acc: 0.7917\n",
      "Epoch 38/60\n",
      "143/143 [==============================] - 8s 54ms/step - loss: 0.3046 - acc: 0.8462 - val_loss: 1.7222 - val_acc: 0.7917\n",
      "Epoch 39/60\n",
      "143/143 [==============================] - 8s 53ms/step - loss: 0.4399 - acc: 0.8322 - val_loss: 1.7377 - val_acc: 0.7500\n",
      "Epoch 40/60\n",
      "143/143 [==============================] - 8s 55ms/step - loss: 0.2939 - acc: 0.8392 - val_loss: 1.7422 - val_acc: 0.7500\n",
      "Epoch 41/60\n",
      "143/143 [==============================] - 8s 55ms/step - loss: 0.2894 - acc: 0.9161 - val_loss: 1.7374 - val_acc: 0.7917\n",
      "Epoch 42/60\n",
      "143/143 [==============================] - 8s 55ms/step - loss: 0.2999 - acc: 0.8671 - val_loss: 1.2259 - val_acc: 0.7500\n",
      "Epoch 43/60\n",
      "143/143 [==============================] - 8s 55ms/step - loss: 0.2837 - acc: 0.8531 - val_loss: 1.3428 - val_acc: 0.7917\n",
      "Epoch 44/60\n",
      "143/143 [==============================] - 8s 58ms/step - loss: 0.2757 - acc: 0.8601 - val_loss: 1.7074 - val_acc: 0.7917\n",
      "Epoch 45/60\n",
      "143/143 [==============================] - 8s 58ms/step - loss: 0.2841 - acc: 0.8531 - val_loss: 1.2327 - val_acc: 0.7500\n",
      "Epoch 46/60\n",
      "143/143 [==============================] - 14s 95ms/step - loss: 0.2474 - acc: 0.9021 - val_loss: 1.7204 - val_acc: 0.7917\n",
      "Epoch 47/60\n",
      "143/143 [==============================] - 22s 154ms/step - loss: 0.2336 - acc: 0.8951 - val_loss: 1.7223 - val_acc: 0.7917\n",
      "Epoch 48/60\n",
      "143/143 [==============================] - 40s 279ms/step - loss: 0.3286 - acc: 0.8741 - val_loss: 1.7189 - val_acc: 0.7917\n",
      "Epoch 49/60\n",
      "143/143 [==============================] - 31s 214ms/step - loss: 0.2627 - acc: 0.8601 - val_loss: 1.7267 - val_acc: 0.7500\n",
      "Epoch 50/60\n",
      "143/143 [==============================] - 13s 93ms/step - loss: 0.2083 - acc: 0.9021 - val_loss: 1.7230 - val_acc: 0.7083\n",
      "Epoch 51/60\n",
      "143/143 [==============================] - 12s 85ms/step - loss: 0.2064 - acc: 0.8951 - val_loss: 1.7555 - val_acc: 0.7917\n",
      "Epoch 52/60\n",
      "143/143 [==============================] - 14s 101ms/step - loss: 0.2177 - acc: 0.8671 - val_loss: 1.2923 - val_acc: 0.7083\n",
      "Epoch 53/60\n",
      "143/143 [==============================] - 8s 55ms/step - loss: 0.2241 - acc: 0.8671 - val_loss: 1.8896 - val_acc: 0.7917\n",
      "Epoch 54/60\n",
      "143/143 [==============================] - 10s 68ms/step - loss: 0.2089 - acc: 0.8811 - val_loss: 1.8262 - val_acc: 0.7500\n",
      "Epoch 55/60\n",
      "143/143 [==============================] - 14s 95ms/step - loss: 0.1643 - acc: 0.9161 - val_loss: 1.8400 - val_acc: 0.7500\n",
      "Epoch 56/60\n",
      "143/143 [==============================] - 9s 65ms/step - loss: 0.2067 - acc: 0.8951 - val_loss: 1.8140 - val_acc: 0.7500\n",
      "Epoch 57/60\n",
      "143/143 [==============================] - 8s 58ms/step - loss: 0.1943 - acc: 0.9091 - val_loss: 1.1924 - val_acc: 0.7083\n",
      "Epoch 58/60\n",
      "143/143 [==============================] - 8s 53ms/step - loss: 0.1912 - acc: 0.8951 - val_loss: 1.7216 - val_acc: 0.7500\n",
      "Epoch 59/60\n",
      "143/143 [==============================] - 8s 56ms/step - loss: 0.1544 - acc: 0.9091 - val_loss: 2.2559 - val_acc: 0.7500\n",
      "Epoch 60/60\n",
      "143/143 [==============================] - 8s 56ms/step - loss: 0.1587 - acc: 0.8951 - val_loss: 2.2477 - val_acc: 0.7500\n"
     ]
    },
    {
     "data": {
      "text/plain": [
       "<keras.callbacks.History at 0x7fc5a4e82a20>"
      ]
     },
     "execution_count": 21,
     "metadata": {},
     "output_type": "execute_result"
    }
   ],
   "source": [
    "adam = Adam(lr=0.0001)\n",
    "chk = ModelCheckpoint('best_model.pkl', monitor='val_acc', save_best_only=True, mode='max', verbose=0)\n",
    "model.compile(loss='binary_crossentropy', optimizer=adam, metrics=['accuracy'])\n",
    "model.fit(train, train_target, epochs=60, batch_size=4, callbacks=[chk], validation_data=(validation,validation_target))"
   ]
  },
  {
   "cell_type": "markdown",
   "metadata": {},
   "source": [
    "# ¿Como se comporta en datos que no ha visto?"
   ]
  },
  {
   "cell_type": "code",
   "execution_count": 288,
   "metadata": {},
   "outputs": [
    {
     "data": {
      "text/plain": [
       "0.8648648648648649"
      ]
     },
     "execution_count": 288,
     "metadata": {},
     "output_type": "execute_result"
    }
   ],
   "source": [
    "model = load_model('best_model.pkl')\n",
    "\n",
    "from sklearn.metrics import f1_score\n",
    "test_preds = model.predict_classes(test)\n",
    "f1_score(test_target, test_preds)"
   ]
  },
  {
   "cell_type": "markdown",
   "metadata": {},
   "source": [
    "#  Preparando preprocessing y envío del e-mail\n",
    "\n",
    "Ahora que queremos el modelo funcionando en todo momento, tenemos que automatizar estas tareas."
   ]
  },
  {
   "cell_type": "code",
   "execution_count": 307,
   "metadata": {},
   "outputs": [],
   "source": [
    "#Padding the sequence with the values in last row to max length\n",
    "def padding(s):\n",
    "    to_pad = 256\n",
    "    new_seq = []\n",
    "    for one_seq in s:\n",
    "        len_one_seq = len(one_seq)\n",
    "        last_val = one_seq[-1]\n",
    "        n = to_pad - len_one_seq\n",
    "\n",
    "        to_concat = np.repeat(one_seq[-1], n).reshape(4, n).transpose()\n",
    "        new_one_seq = np.concatenate([one_seq, to_concat])\n",
    "        new_seq.append(new_one_seq)\n",
    "    f = np.stack(new_seq)\n",
    "\n",
    "    #truncate the sequence to length 60\n",
    "    from keras.preprocessing import sequence\n",
    "    seq_len = 255\n",
    "    return sequence.pad_sequences(f, maxlen=seq_len, padding='post', dtype='float', truncating='post')"
   ]
  },
  {
   "cell_type": "code",
   "execution_count": 298,
   "metadata": {},
   "outputs": [],
   "source": [
    " \n",
    "from email.mime.multipart import MIMEMultipart\n",
    "from email.mime.text import MIMEText\n",
    "import smtplib\n",
    "\n",
    "def send_email(message = \"Contacta a tu usuario, se callo\"):\n",
    "    # create message object instance\n",
    "    msg = MIMEMultipart()\n",
    "\n",
    "    # setup the parameters of the message\n",
    "    password = \"Gjnc2019\"\n",
    "    msg['From'] = \"caidasartificiales@gmail.com\"\n",
    "    msg['To'] = \"gabriel.octavius@gmail.com\"\n",
    "    msg['Subject'] = \"Urgente caida\"\n",
    "\n",
    "    # add in the message body\n",
    "    msg.attach(MIMEText(message, 'plain'))\n",
    "\n",
    "    #create server\n",
    "    server = smtplib.SMTP('smtp.gmail.com: 587')\n",
    "\n",
    "    server.starttls()\n",
    "\n",
    "    # Login Credentials for sending the mail\n",
    "    server.login(msg['From'], password)\n",
    "\n",
    "    # send the message via the server.\n",
    "    server.sendmail(msg['From'], msg['To'], msg.as_string())\n",
    "\n",
    "    server.quit()"
   ]
  },
  {
   "cell_type": "markdown",
   "metadata": {},
   "source": [
    "# Creación del agente "
   ]
  },
  {
   "cell_type": "code",
   "execution_count": 245,
   "metadata": {},
   "outputs": [],
   "source": [
    "import socket\n",
    "\n",
    "path = './data/'\n",
    "target = 'target.csv'\n",
    "nuevo_nombre = 'dataset_gabriel_50.csv'\n",
    "caida = False"
   ]
  },
  {
   "cell_type": "markdown",
   "metadata": {},
   "source": [
    "### Averiguemos nuestra IP"
   ]
  },
  {
   "cell_type": "code",
   "execution_count": 302,
   "metadata": {},
   "outputs": [
    {
     "name": "stdout",
     "output_type": "stream",
     "text": [
      "192.168.1.103\n"
     ]
    }
   ],
   "source": [
    "def get_ip():\n",
    "    s = socket.socket(socket.AF_INET, socket.SOCK_DGRAM)\n",
    "    try:\n",
    "        # doesn't even have to be reachable\n",
    "        s.connect(('10.255.255.255', 1))\n",
    "        IP = s.getsockname()[0]\n",
    "    except:\n",
    "        IP = '127.0.0.1'\n",
    "    finally:\n",
    "        s.close()\n",
    "    return IP\n",
    "print(get_ip())"
   ]
  },
  {
   "cell_type": "code",
   "execution_count": null,
   "metadata": {
    "scrolled": true
   },
   "outputs": [
    {
     "name": "stdout",
     "output_type": "stream",
     "text": [
      "tiempo Transcurrido = 2.455440000005183\n",
      "Predict:  [[0]]\n",
      "tiempo Transcurrido = 4.43528000000515\n",
      "Predict:  [[0]]\n",
      "tiempo Transcurrido = 6.415049999995972\n",
      "Predict:  [[0]]\n",
      "tiempo Transcurrido = 8.553260000000591\n",
      "Predict:  [[0]]\n",
      "tiempo Transcurrido = 10.53306000000157\n",
      "Predict:  [[0]]\n",
      "tiempo Transcurrido = 12.512879999994766\n",
      "Predict:  [[1]]\n",
      "Se cayo\n",
      "tiempo Transcurrido = 1.9798200000077486\n",
      "Predict:  [[1]]\n",
      "Se cayo\n",
      "tiempo Transcurrido = 1.9798000000009779\n",
      "Predict:  [[1]]\n",
      "Se cayo\n",
      "tiempo Transcurrido = 2.019349999987753\n",
      "Predict:  [[1]]\n",
      "Se cayo\n",
      "tiempo Transcurrido = 1.9798000000009779\n",
      "Predict:  [[1]]\n",
      "Se cayo\n",
      "tiempo Transcurrido = 1.9798200000077486\n",
      "Predict:  [[0]]\n",
      "tiempo Transcurrido = 1.9797899999975925\n",
      "Predict:  [[0]]\n",
      "tiempo Transcurrido = 1.9798000000009779\n",
      "Predict:  [[0]]\n",
      "tiempo Transcurrido = 1.9797899999975925\n",
      "Predict:  [[0]]\n",
      "tiempo Transcurrido = 1.979829999996582\n",
      "Predict:  [[0]]\n",
      "tiempo Transcurrido = 1.979830000011134\n",
      "Predict:  [[0]]\n",
      "tiempo Transcurrido = 2.019369999994524\n",
      "Predict:  [[0]]\n",
      "tiempo Transcurrido = 1.9798600000067381\n",
      "Predict:  [[0]]\n",
      "tiempo Transcurrido = 2.533659999986412\n",
      "Predict:  [[0]]\n",
      "tiempo Transcurrido = 2.37622000000556\n",
      "Predict:  [[0]]\n",
      "tiempo Transcurrido = 1.9798000000009779\n",
      "Predict:  [[0]]\n",
      "tiempo Transcurrido = 1.9798500000033528\n",
      "Predict:  [[0]]\n",
      "tiempo Transcurrido = 2.3555300000007264\n",
      "Predict:  [[0]]\n",
      "tiempo Transcurrido = 2.969700000001467\n",
      "Predict:  [[0]]\n",
      "tiempo Transcurrido = 2.9697099999903003\n",
      "Predict:  [[0]]\n",
      "tiempo Transcurrido = 1.3068500000081258\n",
      "Predict:  [[0]]\n",
      "tiempo Transcurrido = 0.9898699999903329\n",
      "Predict:  [[0]]\n",
      "tiempo Transcurrido = 1.0295400000031805\n",
      "Predict:  [[0]]\n",
      "tiempo Transcurrido = 0.9899600000062492\n",
      "Predict:  [[0]]\n",
      "tiempo Transcurrido = 0.9898699999903329\n",
      "Predict:  [[0]]\n",
      "tiempo Transcurrido = 0.9899000000004889\n",
      "Predict:  [[1]]\n",
      "Se cayo\n",
      "tiempo Transcurrido = 0.989930000010645\n",
      "Predict:  [[1]]\n",
      "Se cayo\n",
      "tiempo Transcurrido = 0.9899299999960931\n",
      "Predict:  [[1]]\n",
      "Se cayo\n",
      "tiempo Transcurrido = 0.9898899999971036\n",
      "Predict:  [[1]]\n",
      "Se cayo\n",
      "tiempo Transcurrido = 0.9898899999971036\n",
      "Predict:  [[1]]\n",
      "Se cayo\n",
      "tiempo Transcurrido = 0.9899000000004889\n",
      "Predict:  [[1]]\n",
      "Se cayo\n",
      "tiempo Transcurrido = 0.9899000000004889\n",
      "Predict:  [[1]]\n",
      "Se cayo\n",
      "tiempo Transcurrido = 0.9899900000018533\n",
      "Predict:  [[1]]\n",
      "Se cayo\n",
      "tiempo Transcurrido = 0.9898399999947287\n",
      "Predict:  [[1]]\n",
      "Se cayo\n",
      "tiempo Transcurrido = 0.9899200000072597\n",
      "Predict:  [[1]]\n",
      "Se cayo\n",
      "tiempo Transcurrido = 0.9899299999960931\n",
      "Predict:  [[1]]\n",
      "Se cayo\n",
      "tiempo Transcurrido = 0.989930000010645\n",
      "Predict:  [[1]]\n",
      "Se cayo\n",
      "tiempo Transcurrido = 0.9898399999947287\n",
      "Predict:  [[1]]\n",
      "Se cayo\n",
      "tiempo Transcurrido = 0.9899000000004889\n",
      "Predict:  [[1]]\n",
      "Se cayo\n",
      "tiempo Transcurrido = 0.9899100000038743\n",
      "Predict:  [[1]]\n",
      "Se cayo\n",
      "tiempo Transcurrido = 1.3460599999962142\n",
      "Predict:  [[1]]\n",
      "Se cayo\n",
      "tiempo Transcurrido = 3.1089499999943655\n",
      "Predict:  [[0]]\n",
      "tiempo Transcurrido = 1.9797099999996135\n",
      "Predict:  [[0]]\n",
      "tiempo Transcurrido = 1.9797899999975925\n",
      "Predict:  [[0]]\n",
      "tiempo Transcurrido = 1.9798500000033528\n",
      "Predict:  [[1]]\n",
      "Se cayo\n",
      "tiempo Transcurrido = 1.9798000000009779\n",
      "Predict:  [[0]]\n",
      "tiempo Transcurrido = 1.9798500000033528\n",
      "Predict:  [[0]]\n"
     ]
    }
   ],
   "source": [
    "import socket\n",
    "s=socket.socket(socket.AF_INET,socket.SOCK_DGRAM)\n",
    "s.bind(('',5558))\n",
    "\n",
    "time, acc1, acc2, acc3 =[],[],[],[]\n",
    "time_taken=False\n",
    "time0=0\n",
    "i = 0\n",
    "\n",
    "while True:\n",
    "    data,addr=s.recvfrom(5558)\n",
    "    procesado = str(data).split('\\'')[1].split(',')\n",
    "    if not time_taken:\n",
    "        time0 = procesado[0] \n",
    "        time_taken= True\n",
    "    time.append( - float(time0)+float(procesado[0]))\n",
    "    acc1.append(float(procesado[2]))\n",
    "    acc2.append(float(procesado[3]))\n",
    "    acc3.append(float(procesado[4]))\n",
    "    i+=1\n",
    "    if i%50 == 0:\n",
    "        if i>255:\n",
    "            time = time[-255:]\n",
    "            acc1 = acc1[-255:]\n",
    "            acc2 = acc2[-255:]\n",
    "            acc3 = acc3[-255:]\n",
    "            time0 = procesado[0]\n",
    "        vals = pd.DataFrame({'time': time, 'acc1': acc1,'acc2':acc2,'acc3':acc3}).values\n",
    "        print(\"Predict: \", model.predict_classes(padding([vals])))\n",
    "        if model.predict_classes(padding([vals]))[0,0]>0:\n",
    "            print(\"Se cayo\")\n",
    "            #send_email()\n",
    "        else:\n",
    "            print(\"Todo bien\")\n",
    "        "
   ]
  }
 ],
 "metadata": {
  "kernelspec": {
   "display_name": "Python 3",
   "language": "python",
   "name": "python3"
  },
  "language_info": {
   "codemirror_mode": {
    "name": "ipython",
    "version": 3
   },
   "file_extension": ".py",
   "mimetype": "text/x-python",
   "name": "python",
   "nbconvert_exporter": "python",
   "pygments_lexer": "ipython3",
   "version": "3.7.3"
  }
 },
 "nbformat": 4,
 "nbformat_minor": 4
}
