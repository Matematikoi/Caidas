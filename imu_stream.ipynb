{
 "cells": [
  {
   "cell_type": "code",
   "execution_count": 1,
   "metadata": {},
   "outputs": [],
   "source": [
    "import pandas as pd\n",
    "import numpy as np\n",
    "import socket\n",
    "\n",
    "time, acc1, acc2, acc3 =[],[],[],[]\n",
    "time_taken=False\n",
    "time0=0\n",
    "path = './data/'\n",
    "target = 'target.csv'\n",
    "nuevo_nombre = 'dataset_gabriel_50.csv'\n",
    "caida = False"
   ]
  },
  {
   "cell_type": "code",
   "execution_count": 2,
   "metadata": {},
   "outputs": [
    {
     "name": "stdout",
     "output_type": "stream",
     "text": [
      "192.168.0.7\n"
     ]
    }
   ],
   "source": [
    "def get_ip():\n",
    "    s = socket.socket(socket.AF_INET, socket.SOCK_DGRAM)\n",
    "    try:\n",
    "        # doesn't even have to be reachable\n",
    "        s.connect(('10.255.255.255', 1))\n",
    "        IP = s.getsockname()[0]\n",
    "    except:\n",
    "        IP = '127.0.0.1'\n",
    "    finally:\n",
    "        s.close()\n",
    "    return IP\n",
    "print(get_ip())"
   ]
  },
  {
   "cell_type": "code",
   "execution_count": 3,
   "metadata": {
    "scrolled": true
   },
   "outputs": [
    {
     "name": "stdout",
     "output_type": "stream",
     "text": [
      "tiempo Transcurrido = 0.0\n",
      "tiempo Transcurrido = 0.0601198673248291\n",
      "tiempo Transcurrido = 0.11994004249572754\n",
      "tiempo Transcurrido = 0.1799299716949463\n",
      "tiempo Transcurrido = 0.24180984497070312\n",
      "tiempo Transcurrido = 0.2999298572540283\n",
      "tiempo Transcurrido = 0.35994982719421387\n",
      "tiempo Transcurrido = 0.4199998378753662\n",
      "tiempo Transcurrido = 0.47993993759155273\n",
      "tiempo Transcurrido = 0.5399999618530273\n",
      "tiempo Transcurrido = 0.5999300479888916\n",
      "tiempo Transcurrido = 0.6599500179290771\n",
      "tiempo Transcurrido = 0.7199399471282959\n",
      "tiempo Transcurrido = 0.7799298763275146\n",
      "tiempo Transcurrido = 0.8399498462677002\n",
      "tiempo Transcurrido = 0.8999300003051758\n",
      "tiempo Transcurrido = 0.9599699974060059\n",
      "tiempo Transcurrido = 1.0199899673461914\n",
      "tiempo Transcurrido = 1.0799498558044434\n",
      "tiempo Transcurrido = 1.1399600505828857\n",
      "tiempo Transcurrido = 1.19992995262146\n",
      "tiempo Transcurrido = 1.2599499225616455\n",
      "tiempo Transcurrido = 1.319969892501831\n",
      "tiempo Transcurrido = 1.379960060119629\n",
      "tiempo Transcurrido = 1.43996000289917\n",
      "tiempo Transcurrido = 1.4999299049377441\n",
      "tiempo Transcurrido = 1.5599398612976074\n",
      "tiempo Transcurrido = 1.619999885559082\n",
      "tiempo Transcurrido = 1.679960012435913\n",
      "tiempo Transcurrido = 1.7399699687957764\n",
      "tiempo Transcurrido = 1.7999298572540283\n",
      "tiempo Transcurrido = 1.8599598407745361\n",
      "tiempo Transcurrido = 1.9199399948120117\n",
      "tiempo Transcurrido = 1.9799399375915527\n",
      "tiempo Transcurrido = 2.0399398803710938\n",
      "tiempo Transcurrido = 2.0999300479888916\n",
      "tiempo Transcurrido = 2.1599299907684326\n",
      "tiempo Transcurrido = 2.2200000286102295\n",
      "tiempo Transcurrido = 2.2799298763275146\n",
      "tiempo Transcurrido = 2.3399999141693115\n",
      "tiempo Transcurrido = 2.399930000305176\n",
      "tiempo Transcurrido = 2.459939956665039\n",
      "tiempo Transcurrido = 2.5199499130249023\n",
      "tiempo Transcurrido = 2.579939842224121\n",
      "tiempo Transcurrido = 2.6399600505828857\n",
      "tiempo Transcurrido = 2.6999399662017822\n",
      "tiempo Transcurrido = 2.7599499225616455\n",
      "tiempo Transcurrido = 2.8230199813842773\n",
      "tiempo Transcurrido = 2.8799400329589844\n",
      "tiempo Transcurrido = 2.9399800300598145\n",
      "tiempo Transcurrido = 2.999929904937744\n",
      "tiempo Transcurrido = 3.059969902038574\n",
      "tiempo Transcurrido = 3.1200599670410156\n",
      "tiempo Transcurrido = 3.179949998855591\n",
      "tiempo Transcurrido = 3.2399699687957764\n",
      "tiempo Transcurrido = 3.299959897994995\n",
      "tiempo Transcurrido = 3.359949827194214\n",
      "tiempo Transcurrido = 3.4201200008392334\n",
      "tiempo Transcurrido = 3.4799399375915527\n",
      "tiempo Transcurrido = 3.539949893951416\n",
      "tiempo Transcurrido = 3.599949836730957\n",
      "tiempo Transcurrido = 3.659940004348755\n",
      "tiempo Transcurrido = 3.7200000286102295\n",
      "tiempo Transcurrido = 3.779949903488159\n",
      "tiempo Transcurrido = 3.8399498462677\n",
      "tiempo Transcurrido = 3.899930000305176\n",
      "tiempo Transcurrido = 3.9599499702453613\n",
      "tiempo Transcurrido = 4.020059823989868\n",
      "tiempo Transcurrido = 4.079949855804443\n",
      "tiempo Transcurrido = 4.139940023422241\n",
      "tiempo Transcurrido = 4.1999499797821045\n",
      "tiempo Transcurrido = 4.259939908981323\n",
      "tiempo Transcurrido = 4.32000994682312\n",
      "tiempo Transcurrido = 4.379950046539307\n",
      "tiempo Transcurrido = 4.439949989318848\n",
      "tiempo Transcurrido = 4.499959945678711\n",
      "tiempo Transcurrido = 4.559939861297607\n",
      "tiempo Transcurrido = 4.620069980621338\n",
      "tiempo Transcurrido = 4.679949998855591\n",
      "tiempo Transcurrido = 4.73993992805481\n",
      "tiempo Transcurrido = 4.799939870834351\n",
      "tiempo Transcurrido = 4.859930038452148\n",
      "tiempo Transcurrido = 4.919980049133301\n",
      "tiempo Transcurrido = 4.979959964752197\n",
      "tiempo Transcurrido = 5.039939880371094\n"
     ]
    }
   ],
   "source": [
    "import socket\n",
    "s=socket.socket(socket.AF_INET,socket.SOCK_DGRAM)\n",
    "s.bind(('',5555))\n",
    "\n",
    "while True:\n",
    "    data,addr=s.recvfrom(5555)\n",
    "    procesado = str(data).split('\\'')[1].split(',')\n",
    "    if not time_taken:\n",
    "        time0 = procesado[0] \n",
    "        time_taken= True\n",
    "    time.append( - float(time0)+float(procesado[0]))\n",
    "    acc1.append(procesado[2])\n",
    "    acc2.append(procesado[3])\n",
    "    acc3.append(procesado[4])\n",
    "    print (\"tiempo Transcurrido = \"+str(-float(time0)+float(procesado[0])))\n",
    "    if (-float(time0)+float(procesado[0]))>5:\n",
    "        break"
   ]
  },
  {
   "cell_type": "code",
   "execution_count": 4,
   "metadata": {},
   "outputs": [],
   "source": [
    "df = pd.DataFrame({'time': time, 'acc1': acc1,'acc2':acc2,'acc3':acc3})"
   ]
  },
  {
   "cell_type": "code",
   "execution_count": 5,
   "metadata": {},
   "outputs": [
    {
     "data": {
      "text/html": [
       "<div>\n",
       "<style scoped>\n",
       "    .dataframe tbody tr th:only-of-type {\n",
       "        vertical-align: middle;\n",
       "    }\n",
       "\n",
       "    .dataframe tbody tr th {\n",
       "        vertical-align: top;\n",
       "    }\n",
       "\n",
       "    .dataframe thead th {\n",
       "        text-align: right;\n",
       "    }\n",
       "</style>\n",
       "<table border=\"1\" class=\"dataframe\">\n",
       "  <thead>\n",
       "    <tr style=\"text-align: right;\">\n",
       "      <th></th>\n",
       "      <th>time</th>\n",
       "      <th>acc1</th>\n",
       "      <th>acc2</th>\n",
       "      <th>acc3</th>\n",
       "    </tr>\n",
       "  </thead>\n",
       "  <tbody>\n",
       "    <tr>\n",
       "      <td>0</td>\n",
       "      <td>0.00000</td>\n",
       "      <td>-0.498</td>\n",
       "      <td>4.798</td>\n",
       "      <td>8.370</td>\n",
       "    </tr>\n",
       "    <tr>\n",
       "      <td>1</td>\n",
       "      <td>0.06012</td>\n",
       "      <td>1.580</td>\n",
       "      <td>5.909</td>\n",
       "      <td>7.834</td>\n",
       "    </tr>\n",
       "    <tr>\n",
       "      <td>2</td>\n",
       "      <td>0.11994</td>\n",
       "      <td>0.833</td>\n",
       "      <td>3.744</td>\n",
       "      <td>6.857</td>\n",
       "    </tr>\n",
       "    <tr>\n",
       "      <td>3</td>\n",
       "      <td>0.17993</td>\n",
       "      <td>2.767</td>\n",
       "      <td>3.581</td>\n",
       "      <td>10.008</td>\n",
       "    </tr>\n",
       "    <tr>\n",
       "      <td>4</td>\n",
       "      <td>0.24181</td>\n",
       "      <td>-2.643</td>\n",
       "      <td>2.566</td>\n",
       "      <td>9.644</td>\n",
       "    </tr>\n",
       "  </tbody>\n",
       "</table>\n",
       "</div>"
      ],
      "text/plain": [
       "      time      acc1     acc2     acc3\n",
       "0  0.00000    -0.498    4.798    8.370\n",
       "1  0.06012     1.580    5.909    7.834\n",
       "2  0.11994     0.833    3.744    6.857\n",
       "3  0.17993     2.767    3.581   10.008\n",
       "4  0.24181    -2.643    2.566    9.644"
      ]
     },
     "execution_count": 5,
     "metadata": {},
     "output_type": "execute_result"
    }
   ],
   "source": [
    "df.head()"
   ]
  },
  {
   "cell_type": "code",
   "execution_count": 6,
   "metadata": {},
   "outputs": [],
   "source": [
    "df.to_csv(path+nuevo_nombre)"
   ]
  },
  {
   "cell_type": "code",
   "execution_count": 7,
   "metadata": {},
   "outputs": [],
   "source": [
    "tar =  pd.DataFrame ({'ID':[nuevo_nombre], 'class_label': [1 if caida else -1]})\n",
    "t = pd.read_csv(path+target)\n"
   ]
  },
  {
   "cell_type": "code",
   "execution_count": 8,
   "metadata": {},
   "outputs": [],
   "source": [
    "t = t.append(tar,ignore_index = True)\n",
    "t.to_csv(path+target, index = False)"
   ]
  },
  {
   "cell_type": "code",
   "execution_count": 9,
   "metadata": {},
   "outputs": [
    {
     "data": {
      "text/html": [
       "<div>\n",
       "<style scoped>\n",
       "    .dataframe tbody tr th:only-of-type {\n",
       "        vertical-align: middle;\n",
       "    }\n",
       "\n",
       "    .dataframe tbody tr th {\n",
       "        vertical-align: top;\n",
       "    }\n",
       "\n",
       "    .dataframe thead th {\n",
       "        text-align: right;\n",
       "    }\n",
       "</style>\n",
       "<table border=\"1\" class=\"dataframe\">\n",
       "  <thead>\n",
       "    <tr style=\"text-align: right;\">\n",
       "      <th></th>\n",
       "      <th>ID</th>\n",
       "      <th>class_label</th>\n",
       "    </tr>\n",
       "  </thead>\n",
       "  <tbody>\n",
       "    <tr>\n",
       "      <td>200</td>\n",
       "      <td>dataset_gabriel_50.csv</td>\n",
       "      <td>-1</td>\n",
       "    </tr>\n",
       "    <tr>\n",
       "      <td>201</td>\n",
       "      <td>dataset_gabriel_50.csv</td>\n",
       "      <td>-1</td>\n",
       "    </tr>\n",
       "    <tr>\n",
       "      <td>202</td>\n",
       "      <td>dataset_gabriel_50.csv</td>\n",
       "      <td>-1</td>\n",
       "    </tr>\n",
       "    <tr>\n",
       "      <td>203</td>\n",
       "      <td>dataset_gabriel_50.csv</td>\n",
       "      <td>-1</td>\n",
       "    </tr>\n",
       "    <tr>\n",
       "      <td>204</td>\n",
       "      <td>dataset_gabriel_50.csv</td>\n",
       "      <td>-1</td>\n",
       "    </tr>\n",
       "  </tbody>\n",
       "</table>\n",
       "</div>"
      ],
      "text/plain": [
       "                         ID  class_label\n",
       "200  dataset_gabriel_50.csv           -1\n",
       "201  dataset_gabriel_50.csv           -1\n",
       "202  dataset_gabriel_50.csv           -1\n",
       "203  dataset_gabriel_50.csv           -1\n",
       "204  dataset_gabriel_50.csv           -1"
      ]
     },
     "execution_count": 9,
     "metadata": {},
     "output_type": "execute_result"
    }
   ],
   "source": [
    "t.tail()"
   ]
  },
  {
   "cell_type": "code",
   "execution_count": 10,
   "metadata": {},
   "outputs": [
    {
     "name": "stdout",
     "output_type": "stream",
     "text": [
      "Requirement already up-to-date: pip in c:\\programdata\\anaconda3\\lib\\site-packages (19.2.3)\n",
      "Note: you may need to restart the kernel to use updated packages.\n"
     ]
    }
   ],
   "source": []
  },
  {
   "cell_type": "code",
   "execution_count": 11,
   "metadata": {},
   "outputs": [
    {
     "data": {
      "image/png": "[encoded data removed]",
      "text/plain": [
       "<Figure size 432x288 with 1 Axes>"
      ]
     },
     "metadata": {
      "needs_background": "light"
     },
     "output_type": "display_data"
    }
   ],
   "source": [
    "import matplotlib.pyplot as plt\n",
    "%matplotlib inline\n",
    "#plt.title(\"Caída\")\n",
    "graf=df['acc1'].astype('float').plot()\n",
    "#plt.savefig(\"Caida.png\")"
   ]
  },
  {
   "cell_type": "code",
   "execution_count": 12,
   "metadata": {},
   "outputs": [
    {
     "data": {
      "text/plain": [
       "<matplotlib.axes._subplots.AxesSubplot at 0x1ddb18df448>"
      ]
     },
     "execution_count": 12,
     "metadata": {},
     "output_type": "execute_result"
    },
    {
     "data": {
      "image/png": "[encoded data removed]",
      "text/plain": [
       "<Figure size 432x288 with 1 Axes>"
      ]
     },
     "metadata": {
      "needs_background": "light"
     },
     "output_type": "display_data"
    }
   ],
   "source": [
    "df['acc2'].astype('float').plot()"
   ]
  },
  {
   "cell_type": "code",
   "execution_count": 13,
   "metadata": {},
   "outputs": [
    {
     "data": {
      "text/plain": [
       "<matplotlib.axes._subplots.AxesSubplot at 0x1ddb1953c08>"
      ]
     },
     "execution_count": 13,
     "metadata": {},
     "output_type": "execute_result"
    },
    {
     "data": {
      "image/png": "[encoded data removed]",
      "text/plain": [
       "<Figure size 432x288 with 1 Axes>"
      ]
     },
     "metadata": {
      "needs_background": "light"
     },
     "output_type": "display_data"
    }
   ],
   "source": [
    "df['acc3'].astype('float').plot()"
   ]
  },
  {
   "cell_type": "code",
   "execution_count": 14,
   "metadata": {},
   "outputs": [],
   "source": [
    "#tar = pd.DataFrame ({'ID':[], 'class_label': []})\n",
    "#tar.to_csv(path+target, index = False)"
   ]
  },
  {
   "cell_type": "code",
   "execution_count": null,
   "metadata": {},
   "outputs": [],
   "source": []
  },
  {
   "cell_type": "code",
   "execution_count": null,
   "metadata": {},
   "outputs": [],
   "source": []
  },
  {
   "cell_type": "code",
   "execution_count": null,
   "metadata": {},
   "outputs": [],
   "source": []
  }
 ],
 "metadata": {
  "kernelspec": {
   "display_name": "Python 3",
   "language": "python",
   "name": "python3"
  },
  "language_info": {
   "codemirror_mode": {
    "name": "ipython",
    "version": 3
   },
   "file_extension": ".py",
   "mimetype": "text/x-python",
   "name": "python",
   "nbconvert_exporter": "python",
   "pygments_lexer": "ipython3",
   "version": "3.7.4"
  }
 },
 "nbformat": 4,
 "nbformat_minor": 2
}
